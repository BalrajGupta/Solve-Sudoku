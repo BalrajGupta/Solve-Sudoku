{
 "cells": [
  {
   "cell_type": "markdown",
   "metadata": {},
   "source": [
    "# Build a Sudoku Solver\n",
    "\n",
    "I have created a simple project where I have built an intelligent agent that will solve every sudoku which uses two very important tecniques used in A.I. :\n",
    "- Constraint propagation\n",
    "- Search techniques"
   ]
  },
  {
   "cell_type": "code",
   "execution_count": 1,
   "metadata": {},
   "outputs": [],
   "source": [
    "from functions import *\n",
    "%matplotlib inline"
   ]
  },
  {
   "cell_type": "markdown",
   "metadata": {},
   "source": [
    "<h2> Naming conventions</h2>\n",
    "\n",
    "- The 9 rows will be labelled by the letters A, B, C, D, E, F, G, H, I.\n",
    "- The 9 columns will be labelled by the numbers 1, 2, 3, 4, 5, 6, 7, 8, 9.\n",
    "- Boxes: Each intersection of row and column will be called box. These boxes will have labels 'A1', 'A2', …, 'I9'.\n",
    "- Units: The complete rows, columns, and 3x3 squares, will be called units. Thus, each unit is a set of 9 boxes, and there are 27 units in total.\n",
    "- Peers: For a particular box (such as 'A1'), its peers will be all other boxes that belong to a common unit (namely, those that belong to the same row, column, or 3x3 square).\n",
    "\n",
    "The file [utils.py](utils.py) contains codes to extract peers for each cell and display the grids."
   ]
  },
  {
   "cell_type": "code",
   "execution_count": 2,
   "metadata": {},
   "outputs": [],
   "source": [
    "row_units = [cross(r, cols) for r in rows]\n",
    "column_units = [cross(rows, c) for c in cols]\n",
    "square_units = [cross(rs, cs) for rs in ('ABC','DEF','GHI') for cs in ('123','456','789')]\n",
    "unitlist = row_units + column_units + square_units\n",
    "\n",
    "unitlist = unitlist\n",
    "units = extract_units(unitlist, boxes)\n",
    "peers = extract_peers(units, boxes)"
   ]
  },
  {
   "cell_type": "markdown",
   "metadata": {},
   "source": [
    "## Constaint Propagation\n",
    "\n",
    "\n",
    "Constraint Propagation is all about using local constraints in a space (in the case of Sudoku, the constraints of each square) to dramatically reduce the search space. As we enforce each constraint, we see how it introduces new constraints for other parts of the board that can help us further reduce the number of possibilities."
   ]
  },
  {
   "cell_type": "markdown",
   "metadata": {},
   "source": [
    "<h2>1. Eliminate strategy</h2>\n",
    "\n",
    "In Sudoku, a box  cannot have a value already present in its peers.<br>\n",
    "Therefore we go over every box that has doesn't has a value, and eliminate that values from  its peers's possible values.<br>\n",
    "The function takes a dictionary with every box(A1,A2,etc) as key and its value (or possible values) as the value.\n",
    "It returns the values dictionary with the assigned values eliminated from peers."
   ]
  },
  {
   "cell_type": "code",
   "execution_count": 3,
   "metadata": {},
   "outputs": [],
   "source": [
    "def eliminate(values):\n",
    "    for x in peers:\n",
    "        if len(values[x])== 1:\n",
    "            digit =values[x]\n",
    "            for peer in peers[x]:\n",
    "                values[peer]=values[peer].replace(digit,\"\")\n",
    "                    \n",
    "    return values"
   ]
  },
  {
   "cell_type": "markdown",
   "metadata": {},
   "source": [
    "<h2>2. Only Choice</h2>\n",
    "\n",
    " The only choice strategy says that if only one box in a unit allows a certain digit, then that box must be assigned that digit."
   ]
  },
  {
   "cell_type": "code",
   "execution_count": 4,
   "metadata": {},
   "outputs": [],
   "source": [
    "def only_choice(values):\n",
    "    \n",
    "    for unit in unitlist:\n",
    "        for digit in '123456789':\n",
    "            boxeswithdigit=[x for x in unit if digit in values[x]]\n",
    "            if(len(boxeswithdigit)==1):\n",
    "                #values[boxeswithdigit[0]]=digit\n",
    "                assign_value(values, boxeswithdigit[0], digit)\n",
    "            \n",
    "    return values"
   ]
  },
  {
   "cell_type": "markdown",
   "metadata": {},
   "source": [
    "<h2>3. Naked Twins Technique</h2>\n",
    "\n",
    "Popular technique to remove possibilities. It says that if 2 boxes which are peers, have the same 2 possible values, then those values are locked in those two boxes, and hence can be removed from their peers.\n",
    "<img src='images/nakedtwins.png' width=400px>"
   ]
  },
  {
   "cell_type": "code",
   "execution_count": 5,
   "metadata": {},
   "outputs": [],
   "source": [
    "def naked_twins(values):\n",
    "    for unit in unitlist:\n",
    "        \n",
    "        s = set()\n",
    "        for x in unit:\n",
    "            if(len(values[x])==2):\n",
    "                if values[x] not in s:\n",
    "                    s.add(values[x])\n",
    "                else:\n",
    "                    val = values[x]\n",
    "                    for digit in val:\n",
    "                        for  z in unit:\n",
    "                            if(values[z]!= val):\n",
    "                                values[z]= values[z].replace(digit,'')                              \n",
    "    return values           "
   ]
  },
  {
   "cell_type": "markdown",
   "metadata": {},
   "source": [
    "<h2>Reduce Puzzle</h2>\n",
    "\n",
    "Reduce the Sudoku puzzle by repeatedly applying all these constraint strategies."
   ]
  },
  {
   "cell_type": "code",
   "execution_count": 6,
   "metadata": {},
   "outputs": [],
   "source": [
    "def reduce_puzzle(values):\n",
    "    running = True\n",
    "    while running==True:\n",
    "        solved_values_before = len([box for box in values.keys() if len(values[box]) == 1])\n",
    "        values = eliminate(values)\n",
    "        values = only_choice(values)\n",
    "        values = naked_twins(values)\n",
    "        solved_values_after = len([box for box in values.keys() if len(values[box]) == 1])\n",
    "        #print(\"before:\"+ str(solved_values_before)+\"  after: \"+str(solved_values_after))\n",
    "        if solved_values_after==solved_values_before:\n",
    "            running =False\n",
    "        \n",
    "        if len([box for box in values.keys() if len(values[box]) == 0]):\n",
    "            return False\n",
    "    \n",
    "    return values  "
   ]
  },
  {
   "cell_type": "markdown",
   "metadata": {},
   "source": [
    "## Search\n",
    "\n",
    "If the puzzle is still not solved using constraints, we apply Search on the least difficult box for all its *possible values* \n",
    "and the one that solves the problem is kept.\n",
    "\n",
    "Here we apply Depth First Search."
   ]
  },
  {
   "cell_type": "code",
   "execution_count": 7,
   "metadata": {},
   "outputs": [],
   "source": [
    "def search(values):\n",
    "\n",
    "    # First, reduce the puzzle using the previous function\n",
    "    values =reduce_puzzle(values)\n",
    "    if values is False:\n",
    "        return False\n",
    "    if all(len(values[s]) == 1 for s in boxes):\n",
    "        return values#Solved\n",
    "    # Choose one of the unfilled squares with the fewest possibilities\n",
    "    l=[s for s in boxes if len(values[s])>1]\n",
    "    z= min(l)\n",
    "    # Now use recursion to solve each one of the resulting sudokus, and if one returns a value (not False), return that answer!\n",
    "    for digit in values[z]:\n",
    "        new_val = values.copy()\n",
    "        #new_val[z]=digit\n",
    "        assign_value(new_val, z, digit)\n",
    "        attempt = search(new_val)\n",
    "        if attempt:\n",
    "            return attempt"
   ]
  },
  {
   "cell_type": "markdown",
   "metadata": {},
   "source": [
    "## Solve\n",
    "Find the solution to the Sudoku puzzle using all these techniques."
   ]
  },
  {
   "cell_type": "code",
   "execution_count": 8,
   "metadata": {},
   "outputs": [],
   "source": [
    "def solve(grid):\n",
    "    values = grid2values(grid)\n",
    "    values = search(values)\n",
    "    return values"
   ]
  },
  {
   "cell_type": "markdown",
   "metadata": {},
   "source": [
    "## Input\n",
    "\n",
    "We take the input sudoku as a /string with continuous values row by row and '.'representing empty spaces."
   ]
  },
  {
   "cell_type": "code",
   "execution_count": 9,
   "metadata": {},
   "outputs": [
    {
     "data": {
      "image/png": "[encoded data removed]",
      "text/plain": [
       "<Figure size 432x288 with 1 Axes>"
      ]
     },
     "metadata": {
      "needs_background": "light"
     },
     "output_type": "display_data"
    }
   ],
   "source": [
    "sudoku_grid = '...............257...489..................582..3.28.14.6...2....2...41.9...19.7.3'\n",
    "#'48...2....5.......71..5..3...5....9.39.178.42.2....7...3..1..29.......8....6...17'\n",
    "#'2.............62....1....7...6..8...3...9...7...6..4...4....8....52.............3'\n",
    "plot_sudoku(grid2values(sudoku_grid))"
   ]
  },
  {
   "cell_type": "markdown",
   "metadata": {},
   "source": [
    "## Output"
   ]
  },
  {
   "cell_type": "code",
   "execution_count": 10,
   "metadata": {},
   "outputs": [
    {
     "data": {
      "image/png": "[encoded data removed]",
      "text/plain": [
       "<Figure size 432x288 with 1 Axes>"
      ]
     },
     "metadata": {
      "needs_background": "light"
     },
     "output_type": "display_data"
    }
   ],
   "source": [
    "result = solve(sudoku_grid)\n",
    "plot_sudoku(result)"
   ]
  },
  {
   "cell_type": "code",
   "execution_count": null,
   "metadata": {},
   "outputs": [],
   "source": []
  }
 ],
 "metadata": {
  "kernelspec": {
   "display_name": "Python 3",
   "language": "python",
   "name": "python3"
  },
  "language_info": {
   "codemirror_mode": {
    "name": "ipython",
    "version": 3
   },
   "file_extension": ".py",
   "mimetype": "text/x-python",
   "name": "python",
   "nbconvert_exporter": "python",
   "pygments_lexer": "ipython3",
   "version": "3.7.6"
  }
 },
 "nbformat": 4,
 "nbformat_minor": 4
}
